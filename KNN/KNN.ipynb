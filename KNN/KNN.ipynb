{
 "cells": [
  {
   "cell_type": "markdown",
   "id": "2f4ea16f-30d4-41b9-aa29-f9b487e22333",
   "metadata": {},
   "source": [
    "# KNN - Implementação do algoritmo K-vizinhos mais próximos"
   ]
  },
  {
   "cell_type": "code",
   "execution_count": 1,
   "id": "58b5e931-1c0c-48f9-b006-01a25d684e3c",
   "metadata": {},
   "outputs": [],
   "source": [
    "import pandas as pd"
   ]
  },
  {
   "cell_type": "code",
   "execution_count": 2,
   "id": "6e9bac63-4986-4f31-a017-0cf4469c8797",
   "metadata": {},
   "outputs": [],
   "source": [
    "base = pd.read_csv(\"base_conhecimento.csv\")\n",
    "classificar = pd.read_csv(\"registros_para_classificar.csv\")"
   ]
  },
  {
   "cell_type": "code",
   "execution_count": 3,
   "id": "69e68773-eeac-44d0-9097-7703a800b097",
   "metadata": {},
   "outputs": [],
   "source": [
    "def dist_euclidiana(a : list, b : list) -> float | None:\n",
    "    if len(a) != len(b):\n",
    "        return\n",
    "    return (sum([(m - n)**2 for m, n in zip(a,b)])) * (1/2)"
   ]
  },
  {
   "cell_type": "markdown",
   "id": "8c277e02-55a6-4f86-abfd-f144899beefa",
   "metadata": {},
   "source": [
    "- Abaixo, a implementação do algoritmo KNN"
   ]
  },
  {
   "cell_type": "code",
   "execution_count": 44,
   "id": "ad9f8bf6-66ee-4488-82e2-38309e3764e3",
   "metadata": {},
   "outputs": [],
   "source": [
    "def k_vizinhos_proximos(base, classificacao, k : int):\n",
    "    base_tratada = base.drop(columns=[\"Species\"]).values\n",
    "    classificacao = classificacao.values\n",
    "    \n",
    "    classes = []\n",
    "    for i in range(len(classificacao)):\n",
    "        distancias = [dist_euclidiana(classificacao[i], a) for a in base_tratada]\n",
    "        distancias = pd.DataFrame(distancias)\n",
    "        distancias.columns = [\"Value\"]\n",
    "        k_vizinhos = distancias.sort_values(by=\"Value\").tail(k)\n",
    "\n",
    "        counter = {\n",
    "                \"Iris-setosa\" : 0,\n",
    "                \"Iris-versicolor\" : 0,\n",
    "                \"Iris-virginica\" : 0\n",
    "            }\n",
    "        for j in k_vizinhos:\n",
    "            if base.iloc[j.index][\"Species\"] == \"Iris-setosa\":\n",
    "                counter[\"Iris-setosa\"] += 1\n",
    "            elif base.iloc[j.index][\"Species\"] == \"Iris-versicolor\":\n",
    "                counter[\"Iris-setosa\"] += 1\n",
    "            elif base.iloc[j.index][\"Species\"] == \"Iris-virginica\":\n",
    "                counter[\"Iris-setosa\"] += 1\n",
    "\n",
    "        maior_ocorrencia = max(counter.items(), key=lambda k: k[1])\n",
    "\n",
    "        if counter.values().count(maior_ocorrência[1]) > 1:\n",
    "            classes.append(base.iloc(k_vizinhos.tail(1).index)[\"Species\"])\n",
    "        else:\n",
    "            classes.append(maior_ocorrencia[0])\n",
    "\n",
    "    return pd.DataFrame(classes)"
   ]
  },
  {
   "cell_type": "markdown",
   "id": "cc9fe404-9b58-4417-8061-d75c8d5234f7",
   "metadata": {},
   "source": [
    "- Abaixo, é feito um teste considerando 3, 6 e 10 vizinhos"
   ]
  },
  {
   "cell_type": "code",
   "execution_count": 45,
   "id": "f7e54183-9d9e-41f6-9639-2bdd8f48a562",
   "metadata": {},
   "outputs": [
    {
     "ename": "TypeError",
     "evalue": "must be str, not DataFrame",
     "output_type": "error",
     "traceback": [
      "\u001b[1;31m---------------------------------------------------------------------------\u001b[0m",
      "\u001b[1;31mTypeError\u001b[0m                                 Traceback (most recent call last)",
      "Cell \u001b[1;32mIn[45], line 8\u001b[0m\n\u001b[0;32m      4\u001b[0m         \u001b[38;5;66;03m# resp.columns = [\"Species\"]\u001b[39;00m\n\u001b[0;32m      5\u001b[0m         \u001b[38;5;66;03m# resp.to_csv(f\"resposta_knn[{n}].csv\")\u001b[39;00m\n\u001b[0;32m      7\u001b[0m \u001b[38;5;28;01mif\u001b[39;00m \u001b[38;5;18m__name__\u001b[39m \u001b[38;5;241m==\u001b[39m \u001b[38;5;124m\"\u001b[39m\u001b[38;5;124m__main__\u001b[39m\u001b[38;5;124m\"\u001b[39m:\n\u001b[1;32m----> 8\u001b[0m     \u001b[43mmain\u001b[49m\u001b[43m(\u001b[49m\u001b[43m)\u001b[49m\n",
      "Cell \u001b[1;32mIn[45], line 3\u001b[0m, in \u001b[0;36mmain\u001b[1;34m()\u001b[0m\n\u001b[0;32m      1\u001b[0m \u001b[38;5;28;01mdef\u001b[39;00m \u001b[38;5;21mmain\u001b[39m():\n\u001b[0;32m      2\u001b[0m     \u001b[38;5;28;01mfor\u001b[39;00m n \u001b[38;5;129;01min\u001b[39;00m [\u001b[38;5;241m3\u001b[39m, \u001b[38;5;241m6\u001b[39m, \u001b[38;5;241m10\u001b[39m]:\n\u001b[1;32m----> 3\u001b[0m         resp \u001b[38;5;241m=\u001b[39m \u001b[43mk_vizinhos_proximos\u001b[49m\u001b[43m(\u001b[49m\u001b[43mbase\u001b[49m\u001b[43m,\u001b[49m\u001b[43m \u001b[49m\u001b[43mclassificar\u001b[49m\u001b[43m,\u001b[49m\u001b[43m \u001b[49m\u001b[43mn\u001b[49m\u001b[43m)\u001b[49m\n",
      "Cell \u001b[1;32mIn[44], line 18\u001b[0m, in \u001b[0;36mk_vizinhos_proximos\u001b[1;34m(base, classificacao, k)\u001b[0m\n\u001b[0;32m     12\u001b[0m counter \u001b[38;5;241m=\u001b[39m {\n\u001b[0;32m     13\u001b[0m         \u001b[38;5;124m\"\u001b[39m\u001b[38;5;124mIris-setosa\u001b[39m\u001b[38;5;124m\"\u001b[39m : \u001b[38;5;241m0\u001b[39m,\n\u001b[0;32m     14\u001b[0m         \u001b[38;5;124m\"\u001b[39m\u001b[38;5;124mIris-versicolor\u001b[39m\u001b[38;5;124m\"\u001b[39m : \u001b[38;5;241m0\u001b[39m,\n\u001b[0;32m     15\u001b[0m         \u001b[38;5;124m\"\u001b[39m\u001b[38;5;124mIris-virginica\u001b[39m\u001b[38;5;124m\"\u001b[39m : \u001b[38;5;241m0\u001b[39m\n\u001b[0;32m     16\u001b[0m     }\n\u001b[0;32m     17\u001b[0m \u001b[38;5;28;01mfor\u001b[39;00m j \u001b[38;5;129;01min\u001b[39;00m k_vizinhos:\n\u001b[1;32m---> 18\u001b[0m     \u001b[38;5;28;01mif\u001b[39;00m \u001b[43mbase\u001b[49m\u001b[38;5;241;43m.\u001b[39;49m\u001b[43miloc\u001b[49m\u001b[43m[\u001b[49m\u001b[43mj\u001b[49m\u001b[38;5;241;43m.\u001b[39;49m\u001b[43mindex\u001b[49m\u001b[43m]\u001b[49m[\u001b[38;5;124m\"\u001b[39m\u001b[38;5;124mSpecies\u001b[39m\u001b[38;5;124m\"\u001b[39m] \u001b[38;5;241m==\u001b[39m \u001b[38;5;124m\"\u001b[39m\u001b[38;5;124mIris-setosa\u001b[39m\u001b[38;5;124m\"\u001b[39m:\n\u001b[0;32m     19\u001b[0m         counter[\u001b[38;5;124m\"\u001b[39m\u001b[38;5;124mIris-setosa\u001b[39m\u001b[38;5;124m\"\u001b[39m] \u001b[38;5;241m+\u001b[39m\u001b[38;5;241m=\u001b[39m \u001b[38;5;241m1\u001b[39m\n\u001b[0;32m     20\u001b[0m     \u001b[38;5;28;01melif\u001b[39;00m base\u001b[38;5;241m.\u001b[39miloc[j\u001b[38;5;241m.\u001b[39mindex][\u001b[38;5;124m\"\u001b[39m\u001b[38;5;124mSpecies\u001b[39m\u001b[38;5;124m\"\u001b[39m] \u001b[38;5;241m==\u001b[39m \u001b[38;5;124m\"\u001b[39m\u001b[38;5;124mIris-versicolor\u001b[39m\u001b[38;5;124m\"\u001b[39m:\n",
      "File \u001b[1;32m~\\AppData\\Local\\Programs\\Python\\Python312\\Lib\\site-packages\\pandas\\core\\indexing.py:1189\u001b[0m, in \u001b[0;36m_LocationIndexer.__getitem__\u001b[1;34m(self, key)\u001b[0m\n\u001b[0;32m   1185\u001b[0m \u001b[38;5;28;01melse\u001b[39;00m:\n\u001b[0;32m   1186\u001b[0m     \u001b[38;5;66;03m# we by definition only have the 0th axis\u001b[39;00m\n\u001b[0;32m   1187\u001b[0m     axis \u001b[38;5;241m=\u001b[39m \u001b[38;5;28mself\u001b[39m\u001b[38;5;241m.\u001b[39maxis \u001b[38;5;129;01mor\u001b[39;00m \u001b[38;5;241m0\u001b[39m\n\u001b[1;32m-> 1189\u001b[0m     maybe_callable \u001b[38;5;241m=\u001b[39m \u001b[43mcom\u001b[49m\u001b[38;5;241;43m.\u001b[39;49m\u001b[43mapply_if_callable\u001b[49m\u001b[43m(\u001b[49m\u001b[43mkey\u001b[49m\u001b[43m,\u001b[49m\u001b[43m \u001b[49m\u001b[38;5;28;43mself\u001b[39;49m\u001b[38;5;241;43m.\u001b[39;49m\u001b[43mobj\u001b[49m\u001b[43m)\u001b[49m\n\u001b[0;32m   1190\u001b[0m     maybe_callable \u001b[38;5;241m=\u001b[39m \u001b[38;5;28mself\u001b[39m\u001b[38;5;241m.\u001b[39m_check_deprecated_callable_usage(key, maybe_callable)\n\u001b[0;32m   1191\u001b[0m     \u001b[38;5;28;01mreturn\u001b[39;00m \u001b[38;5;28mself\u001b[39m\u001b[38;5;241m.\u001b[39m_getitem_axis(maybe_callable, axis\u001b[38;5;241m=\u001b[39maxis)\n",
      "File \u001b[1;32m~\\AppData\\Local\\Programs\\Python\\Python312\\Lib\\site-packages\\pandas\\core\\common.py:384\u001b[0m, in \u001b[0;36mapply_if_callable\u001b[1;34m(maybe_callable, obj, **kwargs)\u001b[0m\n\u001b[0;32m    373\u001b[0m \u001b[38;5;250m\u001b[39m\u001b[38;5;124;03m\"\"\"\u001b[39;00m\n\u001b[0;32m    374\u001b[0m \u001b[38;5;124;03mEvaluate possibly callable input using obj and kwargs if it is callable,\u001b[39;00m\n\u001b[0;32m    375\u001b[0m \u001b[38;5;124;03motherwise return as it is.\u001b[39;00m\n\u001b[1;32m   (...)\u001b[0m\n\u001b[0;32m    381\u001b[0m \u001b[38;5;124;03m**kwargs\u001b[39;00m\n\u001b[0;32m    382\u001b[0m \u001b[38;5;124;03m\"\"\"\u001b[39;00m\n\u001b[0;32m    383\u001b[0m \u001b[38;5;28;01mif\u001b[39;00m \u001b[38;5;28mcallable\u001b[39m(maybe_callable):\n\u001b[1;32m--> 384\u001b[0m     \u001b[38;5;28;01mreturn\u001b[39;00m \u001b[43mmaybe_callable\u001b[49m\u001b[43m(\u001b[49m\u001b[43mobj\u001b[49m\u001b[43m,\u001b[49m\u001b[43m \u001b[49m\u001b[38;5;241;43m*\u001b[39;49m\u001b[38;5;241;43m*\u001b[39;49m\u001b[43mkwargs\u001b[49m\u001b[43m)\u001b[49m\n\u001b[0;32m    386\u001b[0m \u001b[38;5;28;01mreturn\u001b[39;00m maybe_callable\n",
      "\u001b[1;31mTypeError\u001b[0m: must be str, not DataFrame"
     ]
    }
   ],
   "source": [
    "def main():\n",
    "    for n in [3, 6, 10]:\n",
    "        resp = k_vizinhos_proximos(base, classificar, n)\n",
    "        # resp.columns = [\"Species\"]\n",
    "        # resp.to_csv(f\"resposta_knn[{n}].csv\")\n",
    "\n",
    "if __name__ == \"__main__\":\n",
    "    main()"
   ]
  },
  {
   "cell_type": "code",
   "execution_count": null,
   "id": "4583d090-eb44-4192-a7f6-e34b2fc2c4fd",
   "metadata": {},
   "outputs": [],
   "source": []
  }
 ],
 "metadata": {
  "kernelspec": {
   "display_name": "Python 3 (ipykernel)",
   "language": "python",
   "name": "python3"
  },
  "language_info": {
   "codemirror_mode": {
    "name": "ipython",
    "version": 3
   },
   "file_extension": ".py",
   "mimetype": "text/x-python",
   "name": "python",
   "nbconvert_exporter": "python",
   "pygments_lexer": "ipython3",
   "version": "3.12.7"
  }
 },
 "nbformat": 4,
 "nbformat_minor": 5
}
