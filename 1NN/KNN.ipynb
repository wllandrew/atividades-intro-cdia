{
 "cells": [
  {
   "cell_type": "markdown",
   "id": "2f4ea16f-30d4-41b9-aa29-f9b487e22333",
   "metadata": {},
   "source": [
    "# KNN - Implementação do algoritmo K-vizinhos mais próximos"
   ]
  },
  {
   "cell_type": "code",
   "execution_count": 1,
   "id": "58b5e931-1c0c-48f9-b006-01a25d684e3c",
   "metadata": {},
   "outputs": [],
   "source": [
    "import pandas as pd\n",
    "import matplotlib.pyplot as plt"
   ]
  },
  {
   "cell_type": "code",
   "execution_count": 2,
   "id": "6e9bac63-4986-4f31-a017-0cf4469c8797",
   "metadata": {},
   "outputs": [],
   "source": [
    "base = pd.read_csv(\"base_conhecimento.csv\")\n",
    "classificar = pd.read_csv(\"registros_para_classificar.csv\")"
   ]
  },
  {
   "cell_type": "code",
   "execution_count": 3,
   "id": "69e68773-eeac-44d0-9097-7703a800b097",
   "metadata": {},
   "outputs": [],
   "source": [
    "def dist_euclidiana(a : list, b : list) -> float | None:\n",
    "    if len(a) != len(b):\n",
    "        return\n",
    "    return (sum([(m - n)**2 for m, n in zip(a,b)])) * (1/2)"
   ]
  },
  {
   "cell_type": "markdown",
   "id": "8c277e02-55a6-4f86-abfd-f144899beefa",
   "metadata": {},
   "source": [
    "- Abaixo, a implementação do algoritmo KNN"
   ]
  },
  {
   "cell_type": "code",
   "execution_count": 4,
   "id": "ad9f8bf6-66ee-4488-82e2-38309e3764e3",
   "metadata": {},
   "outputs": [],
   "source": [
    "def k_vizinhos_proximos(base, classificacao, k) -> list:\n",
    "    base_tratada = base.drop(columns=[\"Species\"]).values\n",
    "\n",
    "    classes = []\n",
    "    for registro in range(len(classificacao)):\n",
    "        distancias = [dist_euclidiana(classificacao.iloc[registro], a) for a in base_tratada]\n",
    "        distancias = pd.DataFrame(distancias)\n",
    "        distancias.columns = [\"Values\"]\n",
    "        k_vizinhos = distancias.sort_values(by=\"Values\").head(k)\n",
    "\n",
    "        counter = {rotulo : 0 for rotulo in base[\"Species\"].unique().tolist()}\n",
    "        for index in k_vizinhos.index:\n",
    "            rotulo = base.iloc[index][\"Species\"]\n",
    "            counter[rotulo] += 1\n",
    "\n",
    "        maior_ocorrencia = max(counter.values())\n",
    "        repetidos = [rotulo for rotulo, qtd in counter.items() if qtd == maior_ocorrencia]\n",
    "\n",
    "        if len(repetidos) > 1:\n",
    "            ordenados = distancias.sort_values(by=\"Values\", ascending=False).head(k)\n",
    "            for index in ordenados.index:\n",
    "                rotulo = base.iloc[index][\"Species\"]\n",
    "                if counter[rotulo] == maior_ocorrencia:\n",
    "                    classes.append(rotulo)\n",
    "                    break\n",
    "        else:\n",
    "            classes.append(repetidos[0])\n",
    "\n",
    "    return classes    "
   ]
  },
  {
   "cell_type": "markdown",
   "id": "ad687065-60c0-4592-987e-db23e73d0163",
   "metadata": {},
   "source": [
    "- Abaixo, uma função que verifica cada possibilidade de k com a resposta ideal em _respostas-em-ordem.csv_"
   ]
  },
  {
   "cell_type": "code",
   "execution_count": 5,
   "id": "ff13525b-fb68-4705-95f2-e8b4f8b54908",
   "metadata": {},
   "outputs": [],
   "source": [
    "def calcula_erros(base, classificacao):\n",
    "    respostas = pd.read_csv(\"respostas_em_ordem.csv\")\n",
    "\n",
    "    erros = []\n",
    "    for k in range(1, len(base)):\n",
    "        classes = k_vizinhos_proximos(base, classificacao, k)\n",
    "\n",
    "        erro = 0\n",
    "        for n in range(len(classes)):\n",
    "            if classes[n] != respostas[\"Species\"][n]:\n",
    "                erro += 1\n",
    "\n",
    "        erros.append(erro)\n",
    "\n",
    "    return erros"
   ]
  },
  {
   "cell_type": "code",
   "execution_count": 6,
   "id": "3c5ec205-5fb2-4a8e-a2e8-941dc3214d4a",
   "metadata": {},
   "outputs": [
    {
     "data": {
      "image/png": "[encoded data removed]",
      "text/plain": [
       "<Figure size 640x480 with 1 Axes>"
      ]
     },
     "metadata": {},
     "output_type": "display_data"
    }
   ],
   "source": [
    "erros = calcula_erros(base, classificar)\n",
    "\n",
    "plt.plot(erros)\n",
    "plt.ylabel(\"Erros\")\n",
    "plt.xlabel(\"Chaves\")\n",
    "plt.show()"
   ]
  },
  {
   "cell_type": "markdown",
   "id": "cc9fe404-9b58-4417-8061-d75c8d5234f7",
   "metadata": {},
   "source": [
    "- Abaixo, é tomado o valor com menos erros e cria um csv, mostrando suas respostas."
   ]
  },
  {
   "cell_type": "code",
   "execution_count": 7,
   "id": "f7e54183-9d9e-41f6-9639-2bdd8f48a562",
   "metadata": {},
   "outputs": [],
   "source": [
    "def main():\n",
    "    menor_erro = calcula_erros(base, classificar)\n",
    "    menor_erro = menor_erro.index(min(menor_erro)) + 1\n",
    "    classificacao = k_vizinhos_proximos(base, classificar, menor_erro)\n",
    "    classificacao = pd.DataFrame(classificacao)\n",
    "    classificacao.columns = [\"Species\"]\n",
    "    classificacao.to_csv(f\"melhor_classificacao_k{menor_erro}.csv\")\n",
    "\n",
    "if __name__ == \"__main__\":\n",
    "    main()"
   ]
  }
 ],
 "metadata": {
  "kernelspec": {
   "display_name": "Python 3 (ipykernel)",
   "language": "python",
   "name": "python3"
  },
  "language_info": {
   "codemirror_mode": {
    "name": "ipython",
    "version": 3
   },
   "file_extension": ".py",
   "mimetype": "text/x-python",
   "name": "python",
   "nbconvert_exporter": "python",
   "pygments_lexer": "ipython3",
   "version": "3.12.7"
  }
 },
 "nbformat": 4,
 "nbformat_minor": 5
}
