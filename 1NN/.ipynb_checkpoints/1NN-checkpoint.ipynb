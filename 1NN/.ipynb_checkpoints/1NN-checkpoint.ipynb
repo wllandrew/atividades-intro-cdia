{
 "cells": [
  {
   "cell_type": "markdown",
   "id": "a6b55efe-c613-4e52-b717-30f90f308dac",
   "metadata": {},
   "source": [
    "# Implementação do algoritmo 1NN (1-vizinho-mais-próximo)"
   ]
  },
  {
   "cell_type": "code",
   "execution_count": 2,
   "id": "dcd6f22b-b728-4aef-a8c2-de2b1f462fbc",
   "metadata": {},
   "outputs": [],
   "source": [
    "import pandas as pd\n",
    "from matplotlib import pyplot as plt"
   ]
  },
  {
   "cell_type": "code",
   "execution_count": 18,
   "id": "73649bfc-df65-4cf6-804e-c5c886e02714",
   "metadata": {},
   "outputs": [],
   "source": [
    "base = pd.read_csv(\"base_conhecimento.csv\")\n",
    "classificar = pd.read_csv(\"registros_para_classificar.csv\")"
   ]
  },
  {
   "cell_type": "markdown",
   "id": "aecccbd9-5401-428a-91f9-f3edf3286f95",
   "metadata": {},
   "source": [
    "- O cálculo da distância euclidiana é essencial para os algoritmos de classificação KNN. Ele está definido abaixo:"
   ]
  },
  {
   "cell_type": "code",
   "execution_count": 27,
   "id": "8d1e4eff-e907-4fae-b97f-302eabc78201",
   "metadata": {},
   "outputs": [],
   "source": [
    "def dist_euclidiana(a : list, b : list) -> float | None:\n",
    "    if len(a) != len(b):\n",
    "        return\n",
    "    return (sum([(m - n)**2 for m, n in zip(a,b)])) * (1/2)"
   ]
  },
  {
   "cell_type": "code",
   "execution_count": 31,
   "id": "7d2f62cc-d0d5-4bb0-85ae-d3c5e16b84a9",
   "metadata": {},
   "outputs": [],
   "source": [
    "def um_vizinho_proximo(base, classificacao):\n",
    "    base_tratada = base.drop(columns=[\"Species\"]).values\n",
    "    classificacao = classificacao.values\n",
    "    \n",
    "    classes = []\n",
    "    for i in range(len(classificacao)):\n",
    "        distancias = [dist_euclidiana(classificacao[i], a) for a in base_tratada]\n",
    "        vizinho_mais_proximo = distancias.index(min(distancias))\n",
    "        classes.append(base.iloc[vizinho_mais_proximo][\"Species\"])\n",
    "\n",
    "    return pd.DataFrame(classes)"
   ]
  },
  {
   "cell_type": "markdown",
   "id": "d85c05db-2f18-47a2-ab38-e7a4c3ef2d7a",
   "metadata": {},
   "source": [
    "- Exportação das respostas em formato .csv:"
   ]
  },
  {
   "cell_type": "code",
   "execution_count": 36,
   "id": "d5cbda35-506f-4226-82e7-782e76231bd8",
   "metadata": {},
   "outputs": [],
   "source": [
    "def main():\n",
    "    resp = um_vizinho_proximo(base, classificar)\n",
    "    resp.columns = [\"Species\"]\n",
    "    resp.to_csv(\"resposta_1nn.csv\")\n",
    "\n",
    "if __name__ == \"__main__\":\n",
    "    main()"
   ]
  }
 ],
 "metadata": {
  "kernelspec": {
   "display_name": "Python 3 (ipykernel)",
   "language": "python",
   "name": "python3"
  },
  "language_info": {
   "codemirror_mode": {
    "name": "ipython",
    "version": 3
   },
   "file_extension": ".py",
   "mimetype": "text/x-python",
   "name": "python",
   "nbconvert_exporter": "python",
   "pygments_lexer": "ipython3",
   "version": "3.12.7"
  }
 },
 "nbformat": 4,
 "nbformat_minor": 5
}
